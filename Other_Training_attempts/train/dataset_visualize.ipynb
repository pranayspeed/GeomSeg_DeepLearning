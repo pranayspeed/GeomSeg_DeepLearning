{
 "cells": [
  {
   "cell_type": "code",
   "execution_count": 1,
   "metadata": {},
   "outputs": [],
   "source": [
    "from GeometrySegmentation import get_all_test_cases, get_test_case_data\n",
    "\n",
    "import numpy as np\n",
    "import open3d\n",
    "import os"
   ]
  },
  {
   "cell_type": "code",
   "execution_count": 2,
   "metadata": {},
   "outputs": [],
   "source": [
    "data_path = \"/home/pranayspeed/Downloads/TRAIN-20s/\"\n",
    "\n",
    "new_data_path = \"/home/pranayspeed/Downloads/TRAIN-20s-normals/\"\n",
    "test_cases = get_all_test_cases(data_path)"
   ]
  },
  {
   "cell_type": "code",
   "execution_count": 10,
   "metadata": {},
   "outputs": [],
   "source": [
    "# for idx in range(len(test_cases)):\n",
    "#     test_data = get_test_case_data(test_cases[idx][0], test_cases[idx][1], test_cases[idx][2])\n",
    "#     pcd = open3d.geometry.PointCloud()\n",
    "#     pcd.points = open3d.utility.Vector3dVector(test_data['data'])\n",
    "#     pcd.estimate_normals(search_param=open3d.geometry.KDTreeSearchParamHybrid(radius=0.1, max_nn=50))\n",
    "#     normals = np.asarray(pcd.normals)\n",
    "    \n",
    "    # full_path = new_data_path + f\"{test_cases[idx][1]:03d}\" + \"/\" +f\"{test_cases[idx][2]:05d}\" +\".npz\"\n",
    "    # if not os.path.exists(new_data_path + f\"{test_cases[idx][1]:03d}\" + \"/\"):\n",
    "    #     os.makedirs(new_data_path + f\"{test_cases[idx][1]:03d}\" + \"/\")\n",
    "\n",
    "    # np.savez(full_path, data=test_data['data'], cls=test_data['cls'], normals=normals, ins=test_data['ins'], scan=test_data['scan'])"
   ]
  },
  {
   "cell_type": "code",
   "execution_count": 11,
   "metadata": {},
   "outputs": [],
   "source": [
    "def visualize_data(idx, compute_normals=False):\n",
    "    test_data = get_test_case_data(test_cases[idx][0], test_cases[idx][1], test_cases[idx][2])\n",
    "    pcd = open3d.geometry.PointCloud()\n",
    "    pcd.points = open3d.utility.Vector3dVector(test_data['data'])\n",
    "    if compute_normals:\n",
    "        pcd.estimate_normals(search_param=open3d.geometry.KDTreeSearchParamHybrid(radius=0.1, max_nn=50))\n",
    "        #normals = np.asarray(pcd.normals)\n",
    "\n",
    "        #pcd.colors = open3d.utility.Vector3dVector(normals)\n",
    "        pcd.paint_uniform_color([1, 0.706, 0])\n",
    "    open3d.visualization.draw_geometries([pcd])"
   ]
  },
  {
   "cell_type": "code",
   "execution_count": 12,
   "metadata": {},
   "outputs": [],
   "source": [
    "visualize_data(5, True)"
   ]
  },
  {
   "cell_type": "code",
   "execution_count": 7,
   "metadata": {},
   "outputs": [],
   "source": [
    "idx = 5\n",
    "test_data = get_test_case_data(test_cases[idx][0], test_cases[idx][1], test_cases[idx][2])"
   ]
  },
  {
   "cell_type": "code",
   "execution_count": 11,
   "metadata": {},
   "outputs": [
    {
     "name": "stdout",
     "output_type": "stream",
     "text": [
      "ins [-1  0  6  7  8  9 10 11 12 13 14 15 16 17 18 19 20 21 22]\n",
      "cls [-1  0  1  2  3]\n"
     ]
    }
   ],
   "source": [
    "print(\"ins\", np.unique(test_data['ins']))\n",
    "print(\"cls\", np.unique(test_data['cls']))\n",
    "\n"
   ]
  },
  {
   "cell_type": "code",
   "execution_count": null,
   "metadata": {},
   "outputs": [],
   "source": []
  }
 ],
 "metadata": {
  "kernelspec": {
   "display_name": "gseg",
   "language": "python",
   "name": "python3"
  },
  "language_info": {
   "codemirror_mode": {
    "name": "ipython",
    "version": 3
   },
   "file_extension": ".py",
   "mimetype": "text/x-python",
   "name": "python",
   "nbconvert_exporter": "python",
   "pygments_lexer": "ipython3",
   "version": "3.7.16"
  },
  "orig_nbformat": 4,
  "vscode": {
   "interpreter": {
    "hash": "05a15ca8ffa09da4f49f898fcf651add9ed7f22207f567d6558817cb2b7d3868"
   }
  }
 },
 "nbformat": 4,
 "nbformat_minor": 2
}
