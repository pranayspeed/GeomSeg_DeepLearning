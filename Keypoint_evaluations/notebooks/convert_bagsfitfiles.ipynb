{
 "cells": [
  {
   "cell_type": "code",
   "execution_count": 1,
   "metadata": {},
   "outputs": [
    {
     "name": "stdout",
     "output_type": "stream",
     "text": [
      "Jupyter environment detected. Enabling Open3D WebVisualizer.\n",
      "[Open3D INFO] WebRTC GUI backend enabled.\n",
      "[Open3D INFO] WebRTCWindowSystem: HTTP handshake server disabled.\n"
     ]
    }
   ],
   "source": [
    "import numpy as np\n",
    "\n",
    "import open3d"
   ]
  },
  {
   "cell_type": "code",
   "execution_count": 2,
   "metadata": {},
   "outputs": [],
   "source": [
    "\n",
    "# Each npz file has following fields:\n",
    "\n",
    "#     data: the xyz coordinates of simulated data with noise;\n",
    "#     scan: the xyz coordinates of simulated data without noise;\n",
    "#     ins: the instance label\n",
    "#     cls: the class label\n",
    "\n",
    "# The primitives are parameterized with following parameters:\n",
    "\n",
    "#     Plane: a point on the plane and its norm; i.e. x, y, z, nx, ny, nz.\n",
    "#     Sphere: a point on the center and its radius; i.e. x, y, z, r.\n",
    "#     Cylinder: a point on the axis, the axis, and the radius; i.e. x, y, z, nx, ny, nz, r.\n",
    "#     Cone: the apex, the axis, and the open angle in radius; i.e. x, y, z, nx, ny, nz, \\theta\n"
   ]
  },
  {
   "cell_type": "code",
   "execution_count": 3,
   "metadata": {},
   "outputs": [],
   "source": [
    "bagsfit_files_path = \"/home/pranayspeed/Downloads/TRAIN-20s/\"\n",
    "sequence = 0\n",
    "test_case=0\n"
   ]
  },
  {
   "cell_type": "code",
   "execution_count": 4,
   "metadata": {},
   "outputs": [],
   "source": [
    "def get_prim_data(bagsfit_files_path, sequence, test_case):\n",
    "    full_path_prim = bagsfit_files_path + f\"{sequence:03d}\" + \"/\" +f\"{test_case:05d}\" +\".prim\"\n",
    "    prim_data = []\n",
    "    with open(full_path_prim, \"r\") as data:        \n",
    "        for line in data:\n",
    "            curr_prim = {}\n",
    "            curr_data = line.split(\" \")\n",
    "            #print(curr_data[0] )\n",
    "            curr_prim['type'] = curr_data[0] \n",
    "            if curr_prim['type'] == \"Plane\":\n",
    "                curr_prim['point'] = np.array([float(curr_data[1]), float(curr_data[2]), float(curr_data[3])])\n",
    "                curr_prim['norm'] = np.array([float(curr_data[4]), float(curr_data[5]), float(curr_data[6])])\n",
    "            elif curr_prim['type'] == \"Sphere\":\n",
    "                curr_prim['point'] = np.array([float(curr_data[1]), float(curr_data[2]), float(curr_data[3])])\n",
    "                curr_prim['radius'] = float(curr_data[4])\n",
    "            elif curr_prim['type'] == \"Cylinder\":\n",
    "                curr_prim['point'] = np.array([float(curr_data[1]), float(curr_data[2]), float(curr_data[3])])\n",
    "                curr_prim['axis'] = np.array([float(curr_data[4]), float(curr_data[5]), float(curr_data[6])])\n",
    "                curr_prim['radius'] = float(curr_data[7])\n",
    "            elif curr_prim['type'] == \"Cone\":\n",
    "                curr_prim['point'] = np.array([float(curr_data[1]), float(curr_data[2]), float(curr_data[3])])\n",
    "                curr_prim['axis'] = np.array([float(curr_data[4]), float(curr_data[5]), float(curr_data[6])])\n",
    "                curr_prim['angle'] = float(curr_data[7])\n",
    "            prim_data.append(curr_prim)\n",
    "    return prim_data\n",
    "\n",
    "def get_test_case_data(bagsfit_files_path, sequence, test_case):\n",
    "    full_path = bagsfit_files_path + f\"{sequence:03d}\" + \"/\" +f\"{test_case:05d}\" +\".npz\"\n",
    "    geom_data={}\n",
    "    with np.load(full_path) as data:\n",
    "        geom_data['data'] = data['data'].reshape(3,-1).T\n",
    "        geom_data['ins'] = np.array(data['ins']).reshape(-1,1).flatten()\n",
    "        geom_data['cls']= np.array(data['cls']).reshape(-1,1).flatten()\n",
    "        geom_data['scan'] = data['scan'].reshape(3,-1).T\n",
    "\n",
    "    geom_data['prim'] = get_prim_data(bagsfit_files_path, sequence, test_case)\n",
    "    return geom_data\n",
    "\n",
    "\n"
   ]
  },
  {
   "cell_type": "code",
   "execution_count": 5,
   "metadata": {},
   "outputs": [],
   "source": [
    "def visualize_test_case(scan_data, cls):\n",
    "    color_map = {\n",
    "    -1: [0, 0, 0],\n",
    "    0: [0, 0, 255],\n",
    "    1: [0, 255, 0],\n",
    "    2: [255, 0, 0],\n",
    "    3: [0, 255, 255],\n",
    "    }\n",
    "    color_values = np.array([color_map[x] for x in cls])\n",
    "    pcd = open3d.geometry.PointCloud()\n",
    "    pcd.points = open3d.utility.Vector3dVector(scan_data)\n",
    "    pcd.colors = open3d.utility.Vector3dVector(color_values)\n",
    "    open3d.visualization.draw_geometries([pcd])\n",
    "\n"
   ]
  },
  {
   "cell_type": "code",
   "execution_count": 6,
   "metadata": {},
   "outputs": [],
   "source": [
    "# sequence =2\n",
    "# test_case=3\n",
    "# geom_data = get_test_case_data(bagsfit_files_path, sequence, test_case)\n",
    "# visualize_test_case(geom_data['data'], geom_data['cls'])"
   ]
  },
  {
   "cell_type": "code",
   "execution_count": 7,
   "metadata": {},
   "outputs": [],
   "source": [
    "def visualize_by_computing_normals(scan_data):\n",
    "    pcd = open3d.geometry.PointCloud()\n",
    "    pcd.points = open3d.utility.Vector3dVector(scan_data)\n",
    "    pcd.estimate_normals(search_param=open3d.geometry.KDTreeSearchParamHybrid(radius=0.1, max_nn=500))\n",
    "    open3d.visualization.draw_geometries([pcd])"
   ]
  },
  {
   "cell_type": "code",
   "execution_count": 8,
   "metadata": {},
   "outputs": [],
   "source": [
    "#visualize_by_computing_normals(geom_data['data'])"
   ]
  },
  {
   "cell_type": "code",
   "execution_count": 9,
   "metadata": {},
   "outputs": [],
   "source": [
    "#torch segmentation CNN model using pointclouds\n",
    "\n",
    "from GeometrySegmentation import PointCloudSegmentation, PointCloudDataset\n",
    "\n",
    "import torch\n",
    "import torch.optim as optim\n",
    "import torch.nn as nn"
   ]
  },
  {
   "cell_type": "code",
   "execution_count": 10,
   "metadata": {},
   "outputs": [],
   "source": [
    "# Create the training dataset\n",
    "train_points = ... # A list of point clouds\n",
    "train_labels = ... # A list of corresponding labels\n",
    "train_dataset = PointCloudDataset(bagsfit_files_path)\n",
    "\n",
    "# Create the data loader\n",
    "train_loader = torch.utils.data.DataLoader(train_dataset, batch_size=32, shuffle=True, num_workers=4)\n"
   ]
  },
  {
   "cell_type": "code",
   "execution_count": 12,
   "metadata": {},
   "outputs": [
    {
     "name": "stdout",
     "output_type": "stream",
     "text": [
      "torch.Size([32, 307200, 3])\n",
      "torch.Size([32, 307200, 3])\n"
     ]
    },
    {
     "ename": "RuntimeError",
     "evalue": "Given groups=1, weight of size [64, 3, 1], expected input[32, 307200, 3] to have 3 channels, but got 307200 channels instead",
     "output_type": "error",
     "traceback": [
      "\u001b[0;31m---------------------------------------------------------------------------\u001b[0m",
      "\u001b[0;31mRuntimeError\u001b[0m                              Traceback (most recent call last)",
      "Cell \u001b[0;32mIn[12], line 29\u001b[0m\n\u001b[1;32m     26\u001b[0m optimizer\u001b[39m.\u001b[39mzero_grad()\n\u001b[1;32m     28\u001b[0m \u001b[39m# Forward pass\u001b[39;00m\n\u001b[0;32m---> 29\u001b[0m outputs \u001b[39m=\u001b[39m model(input_points)\n\u001b[1;32m     30\u001b[0m loss \u001b[39m=\u001b[39m criterion(outputs\u001b[39m.\u001b[39mview(\u001b[39m-\u001b[39m\u001b[39m1\u001b[39m, number_of_classes), labels\u001b[39m.\u001b[39mview(\u001b[39m-\u001b[39m\u001b[39m1\u001b[39m))\n\u001b[1;32m     32\u001b[0m \u001b[39m# Backward pass and optimization\u001b[39;00m\n",
      "File \u001b[0;32m~/anaconda3/envs/gseg/lib/python3.10/site-packages/torch/nn/modules/module.py:1194\u001b[0m, in \u001b[0;36mModule._call_impl\u001b[0;34m(self, *input, **kwargs)\u001b[0m\n\u001b[1;32m   1190\u001b[0m \u001b[39m# If we don't have any hooks, we want to skip the rest of the logic in\u001b[39;00m\n\u001b[1;32m   1191\u001b[0m \u001b[39m# this function, and just call forward.\u001b[39;00m\n\u001b[1;32m   1192\u001b[0m \u001b[39mif\u001b[39;00m \u001b[39mnot\u001b[39;00m (\u001b[39mself\u001b[39m\u001b[39m.\u001b[39m_backward_hooks \u001b[39mor\u001b[39;00m \u001b[39mself\u001b[39m\u001b[39m.\u001b[39m_forward_hooks \u001b[39mor\u001b[39;00m \u001b[39mself\u001b[39m\u001b[39m.\u001b[39m_forward_pre_hooks \u001b[39mor\u001b[39;00m _global_backward_hooks\n\u001b[1;32m   1193\u001b[0m         \u001b[39mor\u001b[39;00m _global_forward_hooks \u001b[39mor\u001b[39;00m _global_forward_pre_hooks):\n\u001b[0;32m-> 1194\u001b[0m     \u001b[39mreturn\u001b[39;00m forward_call(\u001b[39m*\u001b[39;49m\u001b[39minput\u001b[39;49m, \u001b[39m*\u001b[39;49m\u001b[39m*\u001b[39;49mkwargs)\n\u001b[1;32m   1195\u001b[0m \u001b[39m# Do not call functions when jit is used\u001b[39;00m\n\u001b[1;32m   1196\u001b[0m full_backward_hooks, non_full_backward_hooks \u001b[39m=\u001b[39m [], []\n",
      "File \u001b[0;32m~/Work/git_repo/3dkeypoints_CSE702/GeometrySegmentation.py:17\u001b[0m, in \u001b[0;36mPointCloudSegmentation.forward\u001b[0;34m(self, x)\u001b[0m\n\u001b[1;32m     16\u001b[0m \u001b[39mdef\u001b[39;00m \u001b[39mforward\u001b[39m(\u001b[39mself\u001b[39m, x):\n\u001b[0;32m---> 17\u001b[0m     x \u001b[39m=\u001b[39m F\u001b[39m.\u001b[39mrelu(\u001b[39mself\u001b[39;49m\u001b[39m.\u001b[39;49mconv1(x))\n\u001b[1;32m     18\u001b[0m     x \u001b[39m=\u001b[39m F\u001b[39m.\u001b[39mrelu(\u001b[39mself\u001b[39m\u001b[39m.\u001b[39mconv2(x))\n\u001b[1;32m     19\u001b[0m     x \u001b[39m=\u001b[39m F\u001b[39m.\u001b[39mrelu(\u001b[39mself\u001b[39m\u001b[39m.\u001b[39mconv3(x))\n",
      "File \u001b[0;32m~/anaconda3/envs/gseg/lib/python3.10/site-packages/torch/nn/modules/module.py:1194\u001b[0m, in \u001b[0;36mModule._call_impl\u001b[0;34m(self, *input, **kwargs)\u001b[0m\n\u001b[1;32m   1190\u001b[0m \u001b[39m# If we don't have any hooks, we want to skip the rest of the logic in\u001b[39;00m\n\u001b[1;32m   1191\u001b[0m \u001b[39m# this function, and just call forward.\u001b[39;00m\n\u001b[1;32m   1192\u001b[0m \u001b[39mif\u001b[39;00m \u001b[39mnot\u001b[39;00m (\u001b[39mself\u001b[39m\u001b[39m.\u001b[39m_backward_hooks \u001b[39mor\u001b[39;00m \u001b[39mself\u001b[39m\u001b[39m.\u001b[39m_forward_hooks \u001b[39mor\u001b[39;00m \u001b[39mself\u001b[39m\u001b[39m.\u001b[39m_forward_pre_hooks \u001b[39mor\u001b[39;00m _global_backward_hooks\n\u001b[1;32m   1193\u001b[0m         \u001b[39mor\u001b[39;00m _global_forward_hooks \u001b[39mor\u001b[39;00m _global_forward_pre_hooks):\n\u001b[0;32m-> 1194\u001b[0m     \u001b[39mreturn\u001b[39;00m forward_call(\u001b[39m*\u001b[39;49m\u001b[39minput\u001b[39;49m, \u001b[39m*\u001b[39;49m\u001b[39m*\u001b[39;49mkwargs)\n\u001b[1;32m   1195\u001b[0m \u001b[39m# Do not call functions when jit is used\u001b[39;00m\n\u001b[1;32m   1196\u001b[0m full_backward_hooks, non_full_backward_hooks \u001b[39m=\u001b[39m [], []\n",
      "File \u001b[0;32m~/anaconda3/envs/gseg/lib/python3.10/site-packages/torch/nn/modules/conv.py:313\u001b[0m, in \u001b[0;36mConv1d.forward\u001b[0;34m(self, input)\u001b[0m\n\u001b[1;32m    312\u001b[0m \u001b[39mdef\u001b[39;00m \u001b[39mforward\u001b[39m(\u001b[39mself\u001b[39m, \u001b[39minput\u001b[39m: Tensor) \u001b[39m-\u001b[39m\u001b[39m>\u001b[39m Tensor:\n\u001b[0;32m--> 313\u001b[0m     \u001b[39mreturn\u001b[39;00m \u001b[39mself\u001b[39;49m\u001b[39m.\u001b[39;49m_conv_forward(\u001b[39minput\u001b[39;49m, \u001b[39mself\u001b[39;49m\u001b[39m.\u001b[39;49mweight, \u001b[39mself\u001b[39;49m\u001b[39m.\u001b[39;49mbias)\n",
      "File \u001b[0;32m~/anaconda3/envs/gseg/lib/python3.10/site-packages/torch/nn/modules/conv.py:309\u001b[0m, in \u001b[0;36mConv1d._conv_forward\u001b[0;34m(self, input, weight, bias)\u001b[0m\n\u001b[1;32m    305\u001b[0m \u001b[39mif\u001b[39;00m \u001b[39mself\u001b[39m\u001b[39m.\u001b[39mpadding_mode \u001b[39m!=\u001b[39m \u001b[39m'\u001b[39m\u001b[39mzeros\u001b[39m\u001b[39m'\u001b[39m:\n\u001b[1;32m    306\u001b[0m     \u001b[39mreturn\u001b[39;00m F\u001b[39m.\u001b[39mconv1d(F\u001b[39m.\u001b[39mpad(\u001b[39minput\u001b[39m, \u001b[39mself\u001b[39m\u001b[39m.\u001b[39m_reversed_padding_repeated_twice, mode\u001b[39m=\u001b[39m\u001b[39mself\u001b[39m\u001b[39m.\u001b[39mpadding_mode),\n\u001b[1;32m    307\u001b[0m                     weight, bias, \u001b[39mself\u001b[39m\u001b[39m.\u001b[39mstride,\n\u001b[1;32m    308\u001b[0m                     _single(\u001b[39m0\u001b[39m), \u001b[39mself\u001b[39m\u001b[39m.\u001b[39mdilation, \u001b[39mself\u001b[39m\u001b[39m.\u001b[39mgroups)\n\u001b[0;32m--> 309\u001b[0m \u001b[39mreturn\u001b[39;00m F\u001b[39m.\u001b[39;49mconv1d(\u001b[39minput\u001b[39;49m, weight, bias, \u001b[39mself\u001b[39;49m\u001b[39m.\u001b[39;49mstride,\n\u001b[1;32m    310\u001b[0m                 \u001b[39mself\u001b[39;49m\u001b[39m.\u001b[39;49mpadding, \u001b[39mself\u001b[39;49m\u001b[39m.\u001b[39;49mdilation, \u001b[39mself\u001b[39;49m\u001b[39m.\u001b[39;49mgroups)\n",
      "\u001b[0;31mRuntimeError\u001b[0m: Given groups=1, weight of size [64, 3, 1], expected input[32, 307200, 3] to have 3 channels, but got 307200 channels instead"
     ]
    }
   ],
   "source": [
    "number_of_classes = 5\n",
    "batch_size=32\n",
    "device = torch.device(\"cuda\" if torch.cuda.is_available() else \"cpu\")\n",
    "\n",
    "# Define the model\n",
    "model = PointCloudSegmentation(num_shapes=number_of_classes)\n",
    "model = model.to(device)\n",
    "\n",
    "# Define the loss function\n",
    "criterion = nn.CrossEntropyLoss()\n",
    "\n",
    "# Define the optimizer\n",
    "optimizer = optim.Adam(model.parameters(), lr=0.001)\n",
    "\n",
    "# Training loop\n",
    "for epoch in range(100):\n",
    "    # Iterate over the training data\n",
    "    for input_points, labels in train_loader:\n",
    "        input_points = input_points.view(batch_size, -1, 3)\n",
    "        print(input_points.shape)\n",
    "        input_points = input_points.to(device)\n",
    "        print(input_points.shape)\n",
    "        labels = labels.to(device)\n",
    "\n",
    "        # Zero the gradients\n",
    "        optimizer.zero_grad()\n",
    "\n",
    "        # Forward pass\n",
    "        outputs = model(input_points)\n",
    "        loss = criterion(outputs.view(-1, number_of_classes), labels.view(-1))\n",
    "\n",
    "        # Backward pass and optimization\n",
    "        loss.backward()\n",
    "        optimizer.step()\n",
    "\n",
    "    # Print the average loss for this epoch\n",
    "    print(\"Epoch {}: Loss = {}\".format(epoch, loss.item()))\n",
    "\n",
    "# Save the model\n",
    "torch.save(model.state_dict(), \"point_cloud_segmentation.pt\")"
   ]
  },
  {
   "cell_type": "code",
   "execution_count": null,
   "metadata": {},
   "outputs": [],
   "source": []
  },
  {
   "cell_type": "code",
   "execution_count": null,
   "metadata": {},
   "outputs": [],
   "source": []
  }
 ],
 "metadata": {
  "kernelspec": {
   "display_name": "gseg",
   "language": "python",
   "name": "python3"
  },
  "language_info": {
   "codemirror_mode": {
    "name": "ipython",
    "version": 3
   },
   "file_extension": ".py",
   "mimetype": "text/x-python",
   "name": "python",
   "nbconvert_exporter": "python",
   "pygments_lexer": "ipython3",
   "version": "3.10.9"
  },
  "orig_nbformat": 4,
  "vscode": {
   "interpreter": {
    "hash": "05a15ca8ffa09da4f49f898fcf651add9ed7f22207f567d6558817cb2b7d3868"
   }
  }
 },
 "nbformat": 4,
 "nbformat_minor": 2
}
