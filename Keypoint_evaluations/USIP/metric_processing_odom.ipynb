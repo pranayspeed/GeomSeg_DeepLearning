{
 "cells": [
  {
   "cell_type": "code",
   "execution_count": 38,
   "metadata": {},
   "outputs": [],
   "source": [
    "\n",
    "\n",
    "import pandas as pd\n",
    "import numpy as np\n",
    "import os\n",
    "\n",
    "import matplotlib.pyplot as plt"
   ]
  },
  {
   "cell_type": "code",
   "execution_count": 39,
   "metadata": {},
   "outputs": [],
   "source": [
    "results_dir = \"./results_odometry_final/kitti/00/\"\n",
    "\n",
    "files_list = os.listdir(results_dir)\n",
    "#files_list = os.listdir(\"./Experiment_runs_10000/\")\n",
    "\n",
    "\n",
    "\n",
    "files_list = [os.path.join(results_dir, filename) for filename in files_list]\n",
    "files_csv_list = list(filter(lambda file_name: \".csv\" in file_name, files_list))"
   ]
  },
  {
   "cell_type": "code",
   "execution_count": 40,
   "metadata": {},
   "outputs": [
    {
     "data": {
      "text/plain": [
       "['./results_odometry_final/kitti/00/kitti_00_harris.csv',\n",
       " './results_odometry_final/kitti/00/kitti_00_sift.csv',\n",
       " './results_odometry_final/kitti/00/kitti_00_iss.csv',\n",
       " './results_odometry_final/kitti/00/kitti_00_usip.csv']"
      ]
     },
     "execution_count": 40,
     "metadata": {},
     "output_type": "execute_result"
    }
   ],
   "source": [
    "files_csv_list"
   ]
  },
  {
   "cell_type": "code",
   "execution_count": 41,
   "metadata": {},
   "outputs": [],
   "source": [
    "extractor_dfs = {}\n",
    "list_of_extractors = []\n",
    "for csv_name in files_csv_list:\n",
    "    extractor_name = csv_name.split('/')[-1].split('_')[2].split('.')[0]\n",
    "    list_of_extractors.append(extractor_name)\n",
    "    extractor_dfs[extractor_name] =  pd.read_csv(csv_name)    "
   ]
  },
  {
   "cell_type": "code",
   "execution_count": 42,
   "metadata": {},
   "outputs": [
    {
     "data": {
      "text/plain": [
       "['harris', 'sift', 'iss', 'usip']"
      ]
     },
     "execution_count": 42,
     "metadata": {},
     "output_type": "execute_result"
    }
   ],
   "source": [
    "list_of_extractors"
   ]
  },
  {
   "cell_type": "code",
   "execution_count": 43,
   "metadata": {},
   "outputs": [
    {
     "data": {
      "text/html": [
       "<div>\n",
       "<style scoped>\n",
       "    .dataframe tbody tr th:only-of-type {\n",
       "        vertical-align: middle;\n",
       "    }\n",
       "\n",
       "    .dataframe tbody tr th {\n",
       "        vertical-align: top;\n",
       "    }\n",
       "\n",
       "    .dataframe thead th {\n",
       "        text-align: right;\n",
       "    }\n",
       "</style>\n",
       "<table border=\"1\" class=\"dataframe\">\n",
       "  <thead>\n",
       "    <tr style=\"text-align: right;\">\n",
       "      <th></th>\n",
       "      <th>Unnamed: 0</th>\n",
       "      <th>KP_Extract</th>\n",
       "      <th>Matching</th>\n",
       "      <th>KP_count</th>\n",
       "      <th>ATE</th>\n",
       "    </tr>\n",
       "  </thead>\n",
       "  <tbody>\n",
       "    <tr>\n",
       "      <th>0</th>\n",
       "      <td>0</td>\n",
       "      <td>79.981089</td>\n",
       "      <td>0.000000</td>\n",
       "      <td>238</td>\n",
       "      <td>0.088972</td>\n",
       "    </tr>\n",
       "    <tr>\n",
       "      <th>1</th>\n",
       "      <td>1</td>\n",
       "      <td>75.894833</td>\n",
       "      <td>14.571667</td>\n",
       "      <td>204</td>\n",
       "      <td>0.223382</td>\n",
       "    </tr>\n",
       "    <tr>\n",
       "      <th>2</th>\n",
       "      <td>2</td>\n",
       "      <td>78.596592</td>\n",
       "      <td>4.186392</td>\n",
       "      <td>220</td>\n",
       "      <td>0.316227</td>\n",
       "    </tr>\n",
       "    <tr>\n",
       "      <th>3</th>\n",
       "      <td>3</td>\n",
       "      <td>80.724001</td>\n",
       "      <td>3.606081</td>\n",
       "      <td>201</td>\n",
       "      <td>0.388646</td>\n",
       "    </tr>\n",
       "    <tr>\n",
       "      <th>4</th>\n",
       "      <td>4</td>\n",
       "      <td>80.765963</td>\n",
       "      <td>3.641844</td>\n",
       "      <td>200</td>\n",
       "      <td>0.445541</td>\n",
       "    </tr>\n",
       "    <tr>\n",
       "      <th>...</th>\n",
       "      <td>...</td>\n",
       "      <td>...</td>\n",
       "      <td>...</td>\n",
       "      <td>...</td>\n",
       "      <td>...</td>\n",
       "    </tr>\n",
       "    <tr>\n",
       "      <th>4535</th>\n",
       "      <td>4535</td>\n",
       "      <td>104.333162</td>\n",
       "      <td>5.563974</td>\n",
       "      <td>164</td>\n",
       "      <td>98.511768</td>\n",
       "    </tr>\n",
       "    <tr>\n",
       "      <th>4536</th>\n",
       "      <td>4536</td>\n",
       "      <td>101.142168</td>\n",
       "      <td>6.558180</td>\n",
       "      <td>169</td>\n",
       "      <td>98.542758</td>\n",
       "    </tr>\n",
       "    <tr>\n",
       "      <th>4537</th>\n",
       "      <td>4537</td>\n",
       "      <td>100.592375</td>\n",
       "      <td>7.060766</td>\n",
       "      <td>152</td>\n",
       "      <td>98.573576</td>\n",
       "    </tr>\n",
       "    <tr>\n",
       "      <th>4538</th>\n",
       "      <td>4538</td>\n",
       "      <td>101.393938</td>\n",
       "      <td>3.768444</td>\n",
       "      <td>135</td>\n",
       "      <td>98.604253</td>\n",
       "    </tr>\n",
       "    <tr>\n",
       "      <th>4539</th>\n",
       "      <td>4539</td>\n",
       "      <td>98.227262</td>\n",
       "      <td>4.242659</td>\n",
       "      <td>132</td>\n",
       "      <td>98.634753</td>\n",
       "    </tr>\n",
       "  </tbody>\n",
       "</table>\n",
       "<p>4540 rows × 5 columns</p>\n",
       "</div>"
      ],
      "text/plain": [
       "      Unnamed: 0  KP_Extract   Matching  KP_count        ATE\n",
       "0              0   79.981089   0.000000       238   0.088972\n",
       "1              1   75.894833  14.571667       204   0.223382\n",
       "2              2   78.596592   4.186392       220   0.316227\n",
       "3              3   80.724001   3.606081       201   0.388646\n",
       "4              4   80.765963   3.641844       200   0.445541\n",
       "...          ...         ...        ...       ...        ...\n",
       "4535        4535  104.333162   5.563974       164  98.511768\n",
       "4536        4536  101.142168   6.558180       169  98.542758\n",
       "4537        4537  100.592375   7.060766       152  98.573576\n",
       "4538        4538  101.393938   3.768444       135  98.604253\n",
       "4539        4539   98.227262   4.242659       132  98.634753\n",
       "\n",
       "[4540 rows x 5 columns]"
      ]
     },
     "execution_count": 43,
     "metadata": {},
     "output_type": "execute_result"
    }
   ],
   "source": [
    "extractor_dfs[list_of_extractors[0]]"
   ]
  },
  {
   "cell_type": "code",
   "execution_count": 44,
   "metadata": {},
   "outputs": [],
   "source": [
    "feature_names =[\"KP_Extract\",\t\"Matching\",\t\"KP_count\",\t\"ATE\"]"
   ]
  },
  {
   "cell_type": "code",
   "execution_count": 45,
   "metadata": {},
   "outputs": [
    {
     "data": {
      "text/html": [
       "<div>\n",
       "<style scoped>\n",
       "    .dataframe tbody tr th:only-of-type {\n",
       "        vertical-align: middle;\n",
       "    }\n",
       "\n",
       "    .dataframe tbody tr th {\n",
       "        vertical-align: top;\n",
       "    }\n",
       "\n",
       "    .dataframe thead th {\n",
       "        text-align: right;\n",
       "    }\n",
       "</style>\n",
       "<table border=\"1\" class=\"dataframe\">\n",
       "  <thead>\n",
       "    <tr style=\"text-align: right;\">\n",
       "      <th></th>\n",
       "      <th>Unnamed: 0</th>\n",
       "      <th>KP_Extract</th>\n",
       "      <th>Matching</th>\n",
       "      <th>KP_count</th>\n",
       "      <th>ATE</th>\n",
       "    </tr>\n",
       "  </thead>\n",
       "  <tbody>\n",
       "    <tr>\n",
       "      <th>0</th>\n",
       "      <td>0</td>\n",
       "      <td>79.981089</td>\n",
       "      <td>0.000000</td>\n",
       "      <td>238</td>\n",
       "      <td>0.088972</td>\n",
       "    </tr>\n",
       "    <tr>\n",
       "      <th>1</th>\n",
       "      <td>1</td>\n",
       "      <td>75.894833</td>\n",
       "      <td>14.571667</td>\n",
       "      <td>204</td>\n",
       "      <td>0.223382</td>\n",
       "    </tr>\n",
       "    <tr>\n",
       "      <th>2</th>\n",
       "      <td>2</td>\n",
       "      <td>78.596592</td>\n",
       "      <td>4.186392</td>\n",
       "      <td>220</td>\n",
       "      <td>0.316227</td>\n",
       "    </tr>\n",
       "    <tr>\n",
       "      <th>3</th>\n",
       "      <td>3</td>\n",
       "      <td>80.724001</td>\n",
       "      <td>3.606081</td>\n",
       "      <td>201</td>\n",
       "      <td>0.388646</td>\n",
       "    </tr>\n",
       "    <tr>\n",
       "      <th>4</th>\n",
       "      <td>4</td>\n",
       "      <td>80.765963</td>\n",
       "      <td>3.641844</td>\n",
       "      <td>200</td>\n",
       "      <td>0.445541</td>\n",
       "    </tr>\n",
       "    <tr>\n",
       "      <th>...</th>\n",
       "      <td>...</td>\n",
       "      <td>...</td>\n",
       "      <td>...</td>\n",
       "      <td>...</td>\n",
       "      <td>...</td>\n",
       "    </tr>\n",
       "    <tr>\n",
       "      <th>4535</th>\n",
       "      <td>4535</td>\n",
       "      <td>104.333162</td>\n",
       "      <td>5.563974</td>\n",
       "      <td>164</td>\n",
       "      <td>98.511768</td>\n",
       "    </tr>\n",
       "    <tr>\n",
       "      <th>4536</th>\n",
       "      <td>4536</td>\n",
       "      <td>101.142168</td>\n",
       "      <td>6.558180</td>\n",
       "      <td>169</td>\n",
       "      <td>98.542758</td>\n",
       "    </tr>\n",
       "    <tr>\n",
       "      <th>4537</th>\n",
       "      <td>4537</td>\n",
       "      <td>100.592375</td>\n",
       "      <td>7.060766</td>\n",
       "      <td>152</td>\n",
       "      <td>98.573576</td>\n",
       "    </tr>\n",
       "    <tr>\n",
       "      <th>4538</th>\n",
       "      <td>4538</td>\n",
       "      <td>101.393938</td>\n",
       "      <td>3.768444</td>\n",
       "      <td>135</td>\n",
       "      <td>98.604253</td>\n",
       "    </tr>\n",
       "    <tr>\n",
       "      <th>4539</th>\n",
       "      <td>4539</td>\n",
       "      <td>98.227262</td>\n",
       "      <td>4.242659</td>\n",
       "      <td>132</td>\n",
       "      <td>98.634753</td>\n",
       "    </tr>\n",
       "  </tbody>\n",
       "</table>\n",
       "<p>4540 rows × 5 columns</p>\n",
       "</div>"
      ],
      "text/plain": [
       "      Unnamed: 0  KP_Extract   Matching  KP_count        ATE\n",
       "0              0   79.981089   0.000000       238   0.088972\n",
       "1              1   75.894833  14.571667       204   0.223382\n",
       "2              2   78.596592   4.186392       220   0.316227\n",
       "3              3   80.724001   3.606081       201   0.388646\n",
       "4              4   80.765963   3.641844       200   0.445541\n",
       "...          ...         ...        ...       ...        ...\n",
       "4535        4535  104.333162   5.563974       164  98.511768\n",
       "4536        4536  101.142168   6.558180       169  98.542758\n",
       "4537        4537  100.592375   7.060766       152  98.573576\n",
       "4538        4538  101.393938   3.768444       135  98.604253\n",
       "4539        4539   98.227262   4.242659       132  98.634753\n",
       "\n",
       "[4540 rows x 5 columns]"
      ]
     },
     "execution_count": 45,
     "metadata": {},
     "output_type": "execute_result"
    }
   ],
   "source": [
    "extractor_dfs[list_of_extractors[0]]"
   ]
  },
  {
   "cell_type": "code",
   "execution_count": 46,
   "metadata": {},
   "outputs": [],
   "source": [
    "summary_values_extractors = {}\n",
    "\n",
    "for extractor in extractor_dfs:\n",
    "    summary_values_extractors[extractor]={}\n",
    "    extractor_df = extractor_dfs[extractor]\n",
    "    summary_values_extractors[extractor][feature_names[0]+\"_avg\"] = extractor_df[feature_names[0]].mean()\n",
    "    summary_values_extractors[extractor][feature_names[1]+\"_avg\"] = extractor_df[feature_names[1]].mean()\n",
    "    summary_values_extractors[extractor][\"Total_time\"] = summary_values_extractors[extractor][feature_names[0]+\"_avg\"] +summary_values_extractors[extractor][feature_names[1]+\"_avg\"]\n",
    "\n",
    "    summary_values_extractors[extractor][feature_names[3]+\"_max\"] = extractor_df[feature_names[3]].max()    \n",
    "    summary_values_extractors[extractor][feature_names[2]+\"_avg\"] = extractor_df[feature_names[2]].mean()\n",
    "\n"
   ]
  },
  {
   "cell_type": "code",
   "execution_count": 47,
   "metadata": {},
   "outputs": [],
   "source": [
    "extractors_summary = pd.DataFrame.from_dict(summary_values_extractors)"
   ]
  },
  {
   "cell_type": "code",
   "execution_count": 48,
   "metadata": {},
   "outputs": [
    {
     "data": {
      "text/html": [
       "<div>\n",
       "<style scoped>\n",
       "    .dataframe tbody tr th:only-of-type {\n",
       "        vertical-align: middle;\n",
       "    }\n",
       "\n",
       "    .dataframe tbody tr th {\n",
       "        vertical-align: top;\n",
       "    }\n",
       "\n",
       "    .dataframe thead th {\n",
       "        text-align: right;\n",
       "    }\n",
       "</style>\n",
       "<table border=\"1\" class=\"dataframe\">\n",
       "  <thead>\n",
       "    <tr style=\"text-align: right;\">\n",
       "      <th></th>\n",
       "      <th>KP_Extract_avg</th>\n",
       "      <th>Matching_avg</th>\n",
       "      <th>Total_time</th>\n",
       "      <th>ATE_max</th>\n",
       "      <th>KP_count_avg</th>\n",
       "    </tr>\n",
       "  </thead>\n",
       "  <tbody>\n",
       "    <tr>\n",
       "      <th>harris</th>\n",
       "      <td>117.933247</td>\n",
       "      <td>4.588190</td>\n",
       "      <td>122.521437</td>\n",
       "      <td>98.634753</td>\n",
       "      <td>157.363436</td>\n",
       "    </tr>\n",
       "    <tr>\n",
       "      <th>sift</th>\n",
       "      <td>139.378766</td>\n",
       "      <td>3.832419</td>\n",
       "      <td>143.211185</td>\n",
       "      <td>128.880147</td>\n",
       "      <td>123.563436</td>\n",
       "    </tr>\n",
       "    <tr>\n",
       "      <th>iss</th>\n",
       "      <td>82.098641</td>\n",
       "      <td>13.325278</td>\n",
       "      <td>95.423919</td>\n",
       "      <td>32.628598</td>\n",
       "      <td>565.585683</td>\n",
       "    </tr>\n",
       "    <tr>\n",
       "      <th>usip</th>\n",
       "      <td>238.652446</td>\n",
       "      <td>8.171587</td>\n",
       "      <td>246.824033</td>\n",
       "      <td>47.989259</td>\n",
       "      <td>512.000000</td>\n",
       "    </tr>\n",
       "  </tbody>\n",
       "</table>\n",
       "</div>"
      ],
      "text/plain": [
       "        KP_Extract_avg  Matching_avg  Total_time     ATE_max  KP_count_avg\n",
       "harris      117.933247      4.588190  122.521437   98.634753    157.363436\n",
       "sift        139.378766      3.832419  143.211185  128.880147    123.563436\n",
       "iss          82.098641     13.325278   95.423919   32.628598    565.585683\n",
       "usip        238.652446      8.171587  246.824033   47.989259    512.000000"
      ]
     },
     "execution_count": 48,
     "metadata": {},
     "output_type": "execute_result"
    }
   ],
   "source": [
    "extractors_summary.T"
   ]
  },
  {
   "cell_type": "code",
   "execution_count": 49,
   "metadata": {},
   "outputs": [],
   "source": [
    "extractors_summary.T.to_html(results_dir+\"odometry_table.html\")\n",
    "extractors_summary.T.to_latex(results_dir+\"odometry_table.latex\")"
   ]
  },
  {
   "cell_type": "code",
   "execution_count": null,
   "metadata": {},
   "outputs": [],
   "source": []
  },
  {
   "cell_type": "code",
   "execution_count": 50,
   "metadata": {},
   "outputs": [],
   "source": [
    "x_labels = list(extractors_summary.keys())\n",
    "y_labels = list(extractors_summary.T.keys())"
   ]
  },
  {
   "cell_type": "code",
   "execution_count": 51,
   "metadata": {},
   "outputs": [
    {
     "data": {
      "text/plain": [
       "['KP_Extract_avg', 'Matching_avg', 'Total_time', 'ATE_max', 'KP_count_avg']"
      ]
     },
     "execution_count": 51,
     "metadata": {},
     "output_type": "execute_result"
    }
   ],
   "source": [
    "y_labels"
   ]
  },
  {
   "cell_type": "code",
   "execution_count": 52,
   "metadata": {},
   "outputs": [
    {
     "data": {
      "text/plain": [
       "harris    117.933247\n",
       "sift      139.378766\n",
       "iss        82.098641\n",
       "usip      238.652446\n",
       "Name: KP_Extract_avg, dtype: float64"
      ]
     },
     "execution_count": 52,
     "metadata": {},
     "output_type": "execute_result"
    }
   ],
   "source": [
    "extractors_summary.T[\"KP_Extract_avg\"]"
   ]
  },
  {
   "cell_type": "code",
   "execution_count": 53,
   "metadata": {},
   "outputs": [],
   "source": [
    "# x = np.arange(4)\n",
    "# width = 0.05\n",
    "  \n",
    "# # plot data in grouped manner of bar type\n",
    "# plt.bar(x-0.1, extractors_summary.T[\"KP_Extract_avg\"], width, color='cyan')\n",
    "# plt.bar(x, extractors_summary.T[\"Matching_avg\"], width, color='orange')\n",
    "# plt.bar(x+0.1, extractors_summary.T[\"Total_time\"], width, color='green')\n",
    "# #plt.bar(x+0.2, extractors_summary.T[\"ATE_max\"], width, color='blue')\n",
    "# plt.xticks(x, x_labels, rotation=-15)\n",
    "# plt.xlabel(\"Extractors\")\n",
    "# plt.ylabel(\"Metric value\")\n",
    "# plt.legend(y_labels)\n",
    "# #plt.show()\n",
    "\n",
    "# plt.savefig(results_dir+\"average_time_plot.png\")"
   ]
  },
  {
   "cell_type": "code",
   "execution_count": 58,
   "metadata": {},
   "outputs": [
    {
     "data": {
      "image/png": "[encoded data removed]",
      "text/plain": [
       "<Figure size 640x480 with 1 Axes>"
      ]
     },
     "metadata": {},
     "output_type": "display_data"
    }
   ],
   "source": [
    "\n",
    "labels =x_labels \n",
    "extract_avg =  extractors_summary.T[\"KP_Extract_avg\"] \n",
    "match_avg = extractors_summary.T[\"Matching_avg\"]\n",
    "\n",
    "width = 0.35       # the width of the bars: can also be len(x) sequence\n",
    "\n",
    "fig, ax = plt.subplots()\n",
    "\n",
    "ax.bar(labels, extract_avg, width, label='Detection Avg time(ms)')\n",
    "ax.bar(labels, match_avg, width, bottom=extract_avg,\n",
    "       label='Matching Avg time(ms)')\n",
    "\n",
    "plt.xlabel(\"Extractors\")\n",
    "plt.ylabel(\"Metric value(in ms)\")\n",
    "ax.set_title('Time for Detection and Matching')\n",
    "ax.legend()\n",
    "\n",
    "#plt.show()\n",
    "\n",
    "plt.savefig(results_dir+\"average_time_plot.png\")"
   ]
  },
  {
   "cell_type": "code",
   "execution_count": 59,
   "metadata": {},
   "outputs": [
    {
     "data": {
      "image/png": "[encoded data removed]",
      "text/plain": [
       "<Figure size 640x480 with 1 Axes>"
      ]
     },
     "metadata": {},
     "output_type": "display_data"
    }
   ],
   "source": [
    "x = np.arange(4)\n",
    "width = 0.35\n",
    "  \n",
    "# plot data in grouped manner of bar type\n",
    "#plt.bar(x-0.1, extractors_summary.T[\"KP_Extract_avg\"], width, color='cyan')\n",
    "plt.bar(x, extractors_summary.T[\"ATE_max\"], width, color='red')\n",
    "#plt.bar(x+0.1, extractors_summary.T[\"Total_time\"], width, color='green')\n",
    "#plt.bar(x+0.2, extractors_summary.T[\"ATE_max\"], width, color='blue')\n",
    "plt.xticks(x, x_labels, rotation=-15)\n",
    "plt.xlabel(\"Extractors\")\n",
    "plt.ylabel(\"Metric value(in m)\")\n",
    "plt.legend(y_labels[3:])\n",
    "#plt.show()\n",
    "\n",
    "plt.savefig(results_dir+\"ATE_plot.png\")"
   ]
  },
  {
   "cell_type": "code",
   "execution_count": 60,
   "metadata": {},
   "outputs": [],
   "source": [
    "extractor_ATEs = {}\n",
    "\n",
    "for extractor in extractor_dfs:\n",
    "    extractor_ATEs[extractor]={}\n",
    "    extractor_df = extractor_dfs[extractor]\n",
    "    extractor_ATEs[extractor] = extractor_df[feature_names[3]]"
   ]
  },
  {
   "cell_type": "code",
   "execution_count": 61,
   "metadata": {},
   "outputs": [],
   "source": [
    "ates_df = pd.DataFrame.from_dict(extractor_ATEs)"
   ]
  },
  {
   "cell_type": "code",
   "execution_count": 62,
   "metadata": {},
   "outputs": [
    {
     "data": {
      "image/png": "[encoded data removed]",
      "text/plain": [
       "<Figure size 640x480 with 1 Axes>"
      ]
     },
     "metadata": {},
     "output_type": "display_data"
    }
   ],
   "source": [
    "plt.plot(ates_df)\n",
    "plt.xlabel(\"Frame number\")\n",
    "plt.ylabel(\"ATE (in m)\")\n",
    "plt.legend(x_labels)\n",
    "\n",
    "plt.savefig(results_dir+\"ate_per_frame.png\")\n"
   ]
  },
  {
   "cell_type": "code",
   "execution_count": null,
   "metadata": {},
   "outputs": [],
   "source": []
  },
  {
   "cell_type": "code",
   "execution_count": null,
   "metadata": {},
   "outputs": [],
   "source": []
  },
  {
   "cell_type": "code",
   "execution_count": null,
   "metadata": {},
   "outputs": [],
   "source": []
  }
 ],
 "metadata": {
  "kernelspec": {
   "display_name": "Python 3.7.11 ('base')",
   "language": "python",
   "name": "python3"
  },
  "language_info": {
   "codemirror_mode": {
    "name": "ipython",
    "version": 3
   },
   "file_extension": ".py",
   "mimetype": "text/x-python",
   "name": "python",
   "nbconvert_exporter": "python",
   "pygments_lexer": "ipython3",
   "version": "3.7.11"
  },
  "orig_nbformat": 4,
  "vscode": {
   "interpreter": {
    "hash": "c3275c569c5dc62459523b193914ea267a3d9591e29808da4fee8f0e3af1d745"
   }
  }
 },
 "nbformat": 4,
 "nbformat_minor": 2
}
